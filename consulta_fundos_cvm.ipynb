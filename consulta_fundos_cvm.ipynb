{
 "cells": [
  {
   "attachments": {},
   "cell_type": "markdown",
   "metadata": {},
   "source": [
    "# Cotas de Fundos CVM"
   ]
  },
  {
   "attachments": {},
   "cell_type": "markdown",
   "metadata": {},
   "source": [
    "## Importando Bibliotecas"
   ]
  },
  {
   "cell_type": "code",
   "execution_count": null,
   "metadata": {},
   "outputs": [],
   "source": [
    "import pandas as pd\n",
    "import requests\n",
    "import zipfile\n",
    "from validate_docbr import CPF, CNPJ\n",
    "from datetime import date"
   ]
  },
  {
   "attachments": {},
   "cell_type": "markdown",
   "metadata": {},
   "source": [
    "## Funções"
   ]
  },
  {
   "cell_type": "code",
   "execution_count": null,
   "metadata": {},
   "outputs": [],
   "source": [
    "#Tratamento de erros\n",
    "def cnpj_e_valido(cnpj):\n",
    "    if len(cnpj) == 14:\n",
    "        validate_cnpj = CNPJ()\n",
    "        return validate_cnpj.validate(cnpj)\n",
    "    else:\n",
    "        raise ValueError(\"CNPJ inválido: \", cnpj)\n",
    "    \n",
    "def cnpj_in_tbl(cnpj):\n",
    "    if cnpj in fundos_2023.values:\n",
    "        return True\n",
    "    else:\n",
    "        raise ValueError(\"CNPJ não encontrado na tabela\", cnpj)            "
   ]
  },
  {
   "attachments": {},
   "cell_type": "markdown",
   "metadata": {},
   "source": [
    "## Request dos dados (Site CVM)"
   ]
  },
  {
   "cell_type": "code",
   "execution_count": null,
   "metadata": {},
   "outputs": [],
   "source": [
    "#Importando ano e mes atuais\n",
    "anomes_atual = date.today()\n",
    "anomes_atual = str(anomes_atual).replace('-', '')[:6]\n",
    "\n",
    "#lista meses do ano\n",
    "meses_ano = []\n",
    "for mes in range(1, (int(anomes_atual[4:6])+1)):\n",
    "    meses_ano.append(mes)\n",
    "\n",
    "#Novo df\n",
    "fundos_2023 = pd.DataFrame()"
   ]
  },
  {
   "cell_type": "code",
   "execution_count": null,
   "metadata": {},
   "outputs": [],
   "source": [
    "#leitura zip(csv) internet\n",
    "for mes in range(1, (len(meses_ano)+1)):\n",
    "    url = f'https://dados.cvm.gov.br/dados/FI/DOC/INF_DIARIO/DADOS/inf_diario_fi_{anomes_atual[:5]}{mes}.zip'\n",
    "    df = pd.read_csv(url, sep = \";\", encoding= \"ISO-8859-1\")\n",
    "    fundos_2023 = fundos_2023.append(df)"
   ]
  },
  {
   "attachments": {},
   "cell_type": "markdown",
   "metadata": {},
   "source": [
    "#### Download Zip - Opcional caso queira baixar a base de algum mês"
   ]
  },
  {
   "cell_type": "code",
   "execution_count": null,
   "metadata": {},
   "outputs": [],
   "source": [
    "# #download zip\n",
    "# year = '2023'\n",
    "# month = '01'\n",
    "# link = f'https://dados.cvm.gov.br/dados/FI/DOC/INF_DIARIO/DADOS/inf_diario_fi_{year}{month}.zip'\n",
    "# download = requests.get(url)\n",
    "\n",
    "# with open(f\"inf_diario_fi_{year}{month}.zip\", \"wb\") as arquivo_cvm:\n",
    "#     arquivo_cvm.write(download.content)\n",
    "\n",
    "# arquivo_zip = zipfile.ZipFile(f\"inf_diario_fi_{year}{month}.zip\")"
   ]
  },
  {
   "cell_type": "code",
   "execution_count": null,
   "metadata": {},
   "outputs": [],
   "source": [
    "# dados_fundos = pd.read_csv(arquivo_zip.open(arquivo_zip.namelist()[0]), sep = \";\", encoding= \"ISO-8859-1\")"
   ]
  },
  {
   "attachments": {},
   "cell_type": "markdown",
   "metadata": {},
   "source": [
    "#### DataFrame Nomes"
   ]
  },
  {
   "cell_type": "code",
   "execution_count": null,
   "metadata": {},
   "outputs": [],
   "source": [
    "#Nome dos fundos\n",
    "dados_cadastro = pd.read_csv(\"https://dados.cvm.gov.br/dados/FI/CAD/DADOS/cad_fi.csv\", sep= \";\", encoding= \"ISO-8859-1\")\n",
    "dados_cadastro = dados_cadastro[[\"CNPJ_FUNDO\", \"DENOM_SOCIAL\"]]\n",
    "dados_cadastro = dados_cadastro.drop_duplicates()\n",
    "\n",
    "dados_cadastro"
   ]
  },
  {
   "attachments": {},
   "cell_type": "markdown",
   "metadata": {},
   "source": [
    "## DataFrame Fundos"
   ]
  },
  {
   "cell_type": "code",
   "execution_count": null,
   "metadata": {},
   "outputs": [],
   "source": [
    "fundos_2023.head()"
   ]
  },
  {
   "cell_type": "code",
   "execution_count": null,
   "metadata": {},
   "outputs": [],
   "source": [
    "fundos_2023 = fundos_2023[['DT_COMPTC', 'CNPJ_FUNDO', 'VL_QUOTA']]\n",
    "fundos_2023 = fundos_2023.sort_values('DT_COMPTC', axis=0, ascending= True)"
   ]
  },
  {
   "cell_type": "code",
   "execution_count": null,
   "metadata": {},
   "outputs": [],
   "source": [
    "fundos_2023.tail()"
   ]
  },
  {
   "attachments": {},
   "cell_type": "markdown",
   "metadata": {},
   "source": [
    "#### Pesquisar Fundos (CNPJ)"
   ]
  },
  {
   "cell_type": "code",
   "execution_count": null,
   "metadata": {},
   "outputs": [],
   "source": [
    "#Pesquisar fundos por CNPJ\n",
    "lista_cnpj = []\n",
    "pesquisa = True\n",
    "\n",
    "while pesquisa == True:\n",
    "        cnpj = str(input('Digite o CNPJ(somente números) que deseja procurar ou pressione Enter para finalizar a pesquisa: '))\n",
    "        if cnpj == '':\n",
    "                pesquisa = False\n",
    "                print('Você não digitou nenhum mais CNPJ. Pesquisa finalizada.')\n",
    "        else:\n",
    "                cnpj_e_valido(cnpj)\n",
    "                cnpj = CNPJ().mask(cnpj)\n",
    "                cnpj_in_tbl(cnpj)\n",
    "                print(cnpj)\n",
    "                lista_cnpj.append(cnpj)\n",
    "                \n",
    "       \n",
    "\n",
    "        "
   ]
  },
  {
   "cell_type": "code",
   "execution_count": null,
   "metadata": {},
   "outputs": [],
   "source": [
    "fundos_filtro = pd.DataFrame()\n",
    "for cnpj in range(0, len(lista_cnpj)):\n",
    "    df_pesquisa = fundos_2023.loc[fundos_2023['CNPJ_FUNDO'] == lista_cnpj[cnpj]]\n",
    "    fundos_filtro = fundos_filtro.append(df_pesquisa)"
   ]
  },
  {
   "cell_type": "code",
   "execution_count": null,
   "metadata": {},
   "outputs": [],
   "source": [
    "fundos_filtro"
   ]
  },
  {
   "cell_type": "code",
   "execution_count": null,
   "metadata": {},
   "outputs": [],
   "source": [
    "#Opcional - DF com nomes\n",
    "\n",
    "# fundos_filtro_nome = pd.merge(fundos_filtro, dados_cadastro, how='left',\n",
    "#                        left_on=['CNPJ_FUNDO'], right_on=['CNPJ_FUNDO'])\n",
    "# fundos_filtro_nome"
   ]
  },
  {
   "cell_type": "code",
   "execution_count": null,
   "metadata": {},
   "outputs": [],
   "source": [
    "# fundo_nome = fundos_filtro_nome.drop_duplicates(['CNPJ_FUNDO'])\n",
    "# fundo_nome[['CNPJ_FUNDO', 'DENOM_SOCIAL']]"
   ]
  },
  {
   "attachments": {},
   "cell_type": "markdown",
   "metadata": {},
   "source": [
    "#### Fundos Aleatórios"
   ]
  },
  {
   "cell_type": "code",
   "execution_count": null,
   "metadata": {},
   "outputs": [],
   "source": [
    "#Amostra aleatória de fundos\n",
    "amostra= int(input('Digite quantos fundos deseja selecionar: '))\n",
    "cnpj_nao_repete = fundos_2023.drop_duplicates()\n",
    "fundos_aleatorios = list(cnpj_nao_repete['CNPJ_FUNDO'].sample(n=amostra))\n",
    "fundos_filtro_aleatorios = pd.DataFrame()\n",
    "for cnpj in range(0, len(fundos_aleatorios)):\n",
    "    df_pesquisa = fundos_2023.loc[fundos_2023['CNPJ_FUNDO'] == fundos_aleatorios[cnpj]]\n",
    "    fundos_filtro_aleatorios = fundos_filtro_aleatorios.append(df_pesquisa)\n",
    "fundos_filtro_aleatorios"
   ]
  },
  {
   "cell_type": "code",
   "execution_count": null,
   "metadata": {},
   "outputs": [],
   "source": [
    "check_fundos = [fundos_filtro_aleatorios['CNPJ_FUNDO'].unique()]\n",
    "check_fundos"
   ]
  },
  {
   "attachments": {},
   "cell_type": "markdown",
   "metadata": {},
   "source": [
    "## Exportar para excel"
   ]
  },
  {
   "cell_type": "code",
   "execution_count": null,
   "metadata": {},
   "outputs": [],
   "source": [
    "data_atual = date.today()\n",
    "anomes = (str(data_atual).replace('-', ''))[:6]\n",
    "nome_excel = f'fundos_filtro{anomes}.xlsx'\n",
    "\n",
    "excel_export = fundos_filtro.copy()\n",
    "excel_export['CNPJ_FUNDO']=  excel_export['CNPJ_FUNDO'].str.replace('[.,/,-]', '')"
   ]
  },
  {
   "cell_type": "code",
   "execution_count": null,
   "metadata": {},
   "outputs": [],
   "source": [
    "#Novo excel\n",
    "excel_export.to_excel(f'{nome_excel}.xlsx')"
   ]
  },
  {
   "cell_type": "code",
   "execution_count": null,
   "metadata": {},
   "outputs": [],
   "source": [
    "#Adicionar dados a um excel existente\n",
    "\n",
    "excel = pd.read_excel('excel')\n",
    "excel.append(fundos_filtro)"
   ]
  }
 ],
 "metadata": {
  "kernelspec": {
   "display_name": "base",
   "language": "python",
   "name": "python3"
  },
  "language_info": {
   "codemirror_mode": {
    "name": "ipython",
    "version": 3
   },
   "file_extension": ".py",
   "mimetype": "text/x-python",
   "name": "python",
   "nbconvert_exporter": "python",
   "pygments_lexer": "ipython3",
   "version": "3.9.16"
  },
  "orig_nbformat": 4
 },
 "nbformat": 4,
 "nbformat_minor": 2
}
